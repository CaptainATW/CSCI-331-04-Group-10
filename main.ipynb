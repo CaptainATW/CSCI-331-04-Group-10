{
 "cells": [
  {
   "cell_type": "code",
   "execution_count": 1,
   "id": "1f8617ca",
   "metadata": {},
   "outputs": [],
   "source": [
    "image_dir = r'/Users/v/Downloads/CSCI_331_Project1_Dataset/car/train/images'"
   ]
  }
 ],
 "metadata": {
  "kernelspec": {
   "display_name": "Python 3",
   "language": "python",
   "name": "python3"
  },
  "language_info": {
   "codemirror_mode": {
    "name": "ipython",
    "version": 3
   },
   "file_extension": ".py",
   "mimetype": "text/x-python",
   "name": "python",
   "nbconvert_exporter": "python",
   "pygments_lexer": "ipython3",
   "version": "3.11.12"
  }
 },
 "nbformat": 4,
 "nbformat_minor": 5
}
